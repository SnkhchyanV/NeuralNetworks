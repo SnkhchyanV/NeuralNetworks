{
  "nbformat": 4,
  "nbformat_minor": 0,
  "metadata": {
    "colab": {
      "provenance": [],
      "authorship_tag": "ABX9TyPrAF20t6Wb+knrnG1/+HpI",
      "include_colab_link": true
    },
    "kernelspec": {
      "name": "python3",
      "display_name": "Python 3"
    },
    "language_info": {
      "name": "python"
    },
    "accelerator": "TPU"
  },
  "cells": [
    {
      "cell_type": "markdown",
      "metadata": {
        "id": "view-in-github",
        "colab_type": "text"
      },
      "source": [
        "<a href=\"https://colab.research.google.com/github/SnkhchyanV/NeuralNetworks/blob/main/MyModelMNIST.ipynb\" target=\"_parent\"><img src=\"https://colab.research.google.com/assets/colab-badge.svg\" alt=\"Open In Colab\"/></a>"
      ]
    },
    {
      "cell_type": "code",
      "execution_count": 2,
      "metadata": {
        "id": "uxBfOtOfDE8R"
      },
      "outputs": [],
      "source": [
        "import tensorflow as tf\n",
        "import matplotlib.pyplot as plt\n",
        "\n"
      ]
    },
    {
      "cell_type": "code",
      "source": [
        "mnist = tf.keras.datasets.mnist\n"
      ],
      "metadata": {
        "id": "zTr08X71H-BB"
      },
      "execution_count": 9,
      "outputs": []
    },
    {
      "cell_type": "code",
      "source": [
        "(x_train, y_train), (x_test, y_test) = mnist.load_data()\n",
        "x_train, x_test = x_train / 255.0, x_test / 255.0\n",
        "\n",
        "plt.imshow(x_train[8])\n",
        "\n",
        "model = tf.keras.models.Sequential()\n",
        "\n",
        "model.add(tf.keras.layers.Flatten(input_shape=(28,28)))\n",
        "model.add(tf.keras.layers.Dense(40, activation='relu'))\n",
        "model.add(tf.keras.layers.Dense(10, activation = 'softmax'))\n",
        "\n",
        "print(model.summary())\n",
        "model.compile(optimizer=tf.keras.optimizers.Adam(0.001), loss='categorical_crossentropy', metrics = ['accuracy', 'mse'])\n",
        "y_train = tf.keras.utils.to_categorical(y_train)\n",
        "model.fit(x_train, y_train, epochs=10, validation_split=0.1)\n",
        "\n"
      ],
      "metadata": {
        "colab": {
          "base_uri": "https://localhost:8080/",
          "height": 1000
        },
        "id": "JxS99csEIQ0a",
        "outputId": "96b2ed96-a777-4618-f3de-4e6f2b7fae86"
      },
      "execution_count": 16,
      "outputs": [
        {
          "output_type": "stream",
          "name": "stdout",
          "text": [
            "Model: \"sequential_7\"\n",
            "_________________________________________________________________\n",
            " Layer (type)                Output Shape              Param #   \n",
            "=================================================================\n",
            " flatten_7 (Flatten)         (None, 784)               0         \n",
            "                                                                 \n",
            " dense_14 (Dense)            (None, 40)                31400     \n",
            "                                                                 \n",
            " dense_15 (Dense)            (None, 10)                410       \n",
            "                                                                 \n",
            "=================================================================\n",
            "Total params: 31,810\n",
            "Trainable params: 31,810\n",
            "Non-trainable params: 0\n",
            "_________________________________________________________________\n",
            "None\n",
            "Epoch 1/10\n",
            "1688/1688 [==============================] - 14s 8ms/step - loss: 0.3647 - accuracy: 0.8976 - mse: 0.0160 - val_loss: 0.1842 - val_accuracy: 0.9473 - val_mse: 0.0080\n",
            "Epoch 2/10\n",
            "1688/1688 [==============================] - 5s 3ms/step - loss: 0.2004 - accuracy: 0.9408 - mse: 0.0090 - val_loss: 0.1436 - val_accuracy: 0.9605 - val_mse: 0.0063\n",
            "Epoch 3/10\n",
            "1688/1688 [==============================] - 6s 4ms/step - loss: 0.1543 - accuracy: 0.9541 - mse: 0.0070 - val_loss: 0.1290 - val_accuracy: 0.9632 - val_mse: 0.0057\n",
            "Epoch 4/10\n",
            "1688/1688 [==============================] - 4s 2ms/step - loss: 0.1262 - accuracy: 0.9623 - mse: 0.0058 - val_loss: 0.1161 - val_accuracy: 0.9655 - val_mse: 0.0052\n",
            "Epoch 5/10\n",
            "1688/1688 [==============================] - 4s 2ms/step - loss: 0.1077 - accuracy: 0.9673 - mse: 0.0050 - val_loss: 0.1080 - val_accuracy: 0.9680 - val_mse: 0.0050\n",
            "Epoch 6/10\n",
            "1688/1688 [==============================] - 6s 3ms/step - loss: 0.0925 - accuracy: 0.9726 - mse: 0.0043 - val_loss: 0.0981 - val_accuracy: 0.9703 - val_mse: 0.0044\n",
            "Epoch 7/10\n",
            "1688/1688 [==============================] - 5s 3ms/step - loss: 0.0823 - accuracy: 0.9753 - mse: 0.0039 - val_loss: 0.1018 - val_accuracy: 0.9680 - val_mse: 0.0047\n",
            "Epoch 8/10\n",
            "1688/1688 [==============================] - 4s 2ms/step - loss: 0.0720 - accuracy: 0.9779 - mse: 0.0034 - val_loss: 0.0918 - val_accuracy: 0.9705 - val_mse: 0.0042\n",
            "Epoch 9/10\n",
            "1688/1688 [==============================] - 5s 3ms/step - loss: 0.0647 - accuracy: 0.9796 - mse: 0.0031 - val_loss: 0.1005 - val_accuracy: 0.9707 - val_mse: 0.0046\n",
            "Epoch 10/10\n",
            "1688/1688 [==============================] - 5s 3ms/step - loss: 0.0593 - accuracy: 0.9816 - mse: 0.0028 - val_loss: 0.1004 - val_accuracy: 0.9702 - val_mse: 0.0045\n"
          ]
        },
        {
          "output_type": "execute_result",
          "data": {
            "text/plain": [
              "<keras.callbacks.History at 0x7f587470ae60>"
            ]
          },
          "metadata": {},
          "execution_count": 16
        },
        {
          "output_type": "display_data",
          "data": {
            "text/plain": [
              "<Figure size 640x480 with 1 Axes>"
            ],
            "image/png": "[encoded data removed]"
          },
          "metadata": {}
        }
      ]
    },
    {
      "cell_type": "code",
      "source": [
        "y_test = tf.keras.utils.to_categorical(y_test)\n",
        "model.evaluate(x_test, y_test, batch_size=y_test.shape[0])\n"
      ],
      "metadata": {
        "colab": {
          "base_uri": "https://localhost:8080/"
        },
        "id": "cHrBhOsSIctS",
        "outputId": "948eb4b0-31be-477a-f0c2-97595330de90"
      },
      "execution_count": 17,
      "outputs": [
        {
          "output_type": "stream",
          "name": "stdout",
          "text": [
            "1/1 [==============================] - 0s 200ms/step - loss: 0.1051 - accuracy: 0.9705 - mse: 0.0046\n"
          ]
        },
        {
          "output_type": "execute_result",
          "data": {
            "text/plain": [
              "[0.10507980734109879, 0.9704999923706055, 0.0046348124742507935]"
            ]
          },
          "metadata": {},
          "execution_count": 17
        }
      ]
    },
    {
      "cell_type": "code",
      "source": [
        "\n",
        "#model.predict(x_test[111])\n",
        "i = 89\n",
        "plt.imshow(x_test[i])\n",
        "x = tf.expand_dims(x_test[i], axis=0)\n",
        "print(tf.argmax(model(x, training=False), axis=1))"
      ],
      "metadata": {
        "colab": {
          "base_uri": "https://localhost:8080/",
          "height": 447
        },
        "id": "GhiGmQXeJSJH",
        "outputId": "cc4f9309-bbee-49bc-f796-0d15123ed120"
      },
      "execution_count": 23,
      "outputs": [
        {
          "output_type": "stream",
          "name": "stdout",
          "text": [
            "tf.Tensor([1], shape=(1,), dtype=int64)\n"
          ]
        },
        {
          "output_type": "display_data",
          "data": {
            "text/plain": [
              "<Figure size 640x480 with 1 Axes>"
            ],
            "image/png": "[encoded data removed]"
          },
          "metadata": {}
        }
      ]
    },
    {
      "cell_type": "code",
      "source": [],
      "metadata": {
        "id": "jLmleB4KNjtP"
      },
      "execution_count": null,
      "outputs": []
    }
  ]
}