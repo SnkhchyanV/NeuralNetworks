{
  "cells": [
    {
      "cell_type": "markdown",
      "metadata": {
        "id": "view-in-github",
        "colab_type": "text"
      },
      "source": [
        "<a href=\"https://colab.research.google.com/github/SnkhchyanV/NeuralNetworks/blob/main/GAN.ipynb\" target=\"_parent\"><img src=\"https://colab.research.google.com/assets/colab-badge.svg\" alt=\"Open In Colab\"/></a>"
      ]
    },
    {
      "cell_type": "markdown",
      "metadata": {
        "id": "L1aNlTjIvDlM"
      },
      "source": [
        "### Generating human faces with Adversarial Networks\n",
        "<img src=\"https://www.strangerdimensions.com/wp-content/uploads/2013/11/reception-robot.jpg\" width=320>\n",
        "This time we'll train a neural net to generate plausible human faces in all their subtlty: appearance, expression, accessories, etc.\n",
        "\n",
        "Based on https://github.com/Lasagne/Recipes/pull/94 ."
      ]
    },
    {
      "cell_type": "code",
      "execution_count": 13,
      "metadata": {
        "id": "1M5JJlccvDlN"
      },
      "outputs": [],
      "source": [
        "import matplotlib.pyplot as plt\n",
        "%matplotlib inline\n",
        "import numpy as np\n",
        "plt.rcParams.update({'axes.titlesize': 'small'})\n",
        "from sklearn.datasets import load_digits\n",
        "import os\n",
        "from cv2 import imread, resize\n",
        "import pandas as pd\n"
      ]
    },
    {
      "cell_type": "code",
      "source": [
        "def fetch_lfw_dataset(attrs_name = \"lfw_attributes.txt\",\n",
        "                      images_name = \"lfw-deepfunneled\",\n",
        "                      raw_images_name = \"lfw\",\n",
        "                      use_raw=False,\n",
        "                      dx=80,dy=80,\n",
        "                      dimx=45,dimy=45\n",
        "    ):#sad smile\n",
        "\n",
        "    #download if not exists\n",
        "    if (not use_raw) and not os.path.exists(images_name):\n",
        "        print(\"images not found, donwloading...\")\n",
        "        os.system(\"wget http://vis-www.cs.umass.edu/lfw/lfw-deepfunneled.tgz -O tmp.tgz\")\n",
        "        print(\"extracting...\")\n",
        "        os.system(\"tar xvzf tmp.tgz && rm tmp.tgz\")\n",
        "        print(\"done\")\n",
        "        assert os.path.exists(images_name)\n",
        "\n",
        "    if use_raw and not os.path.exists(raw_images_name):\n",
        "        print(\"images not found, donwloading...\")\n",
        "        os.system(\"wget http://vis-www.cs.umass.edu/lfw/lfw.tgz -O tmp.tgz\")\n",
        "        print(\"extracting...\")\n",
        "        os.system(\"tar xvzf tmp.tgz && rm tmp.tgz\")\n",
        "        print(\"done\")\n",
        "        assert os.path.exists(raw_images_name)\n",
        "\n",
        "    if not os.path.exists(attrs_name):\n",
        "        print(\"attributes not found, downloading...\")\n",
        "        os.system(\"wget http://www.cs.columbia.edu/CAVE/databases/pubfig/download/%s\"%attrs_name)\n",
        "        print(\"done\")\n",
        "\n",
        "    #read attrs\n",
        "    df_attrs = pd.read_csv(\"lfw_attributes.txt\",sep='\\t',skiprows=1,)\n",
        "    df_attrs = pd.DataFrame(df_attrs.iloc[:,:-1].values, columns = df_attrs.columns[1:])\n",
        "    df_attrs.imagenum = df_attrs.imagenum.astype(np.int64)\n",
        "\n",
        "\n",
        "    #read photos\n",
        "    dirname = raw_images_name if use_raw else images_name\n",
        "    photo_ids = []\n",
        "    for dirpath, dirnames, filenames in os.walk(dirname):\n",
        "        for fname in filenames:\n",
        "            if fname.endswith(\".jpg\"):\n",
        "                fpath = os.path.join(dirpath,fname)\n",
        "                photo_id = fname[:-4].replace('_',' ').split()\n",
        "                person_id = ' '.join(photo_id[:-1])\n",
        "                photo_number = int(photo_id[-1])\n",
        "                photo_ids.append({'person':person_id,'imagenum':photo_number,'photo_path':fpath})\n",
        "\n",
        "    photo_ids = pd.DataFrame(photo_ids)\n",
        "\n",
        "    #mass-merge\n",
        "    #(photos now have same order as attributes)\n",
        "    df = pd.merge(df_attrs,photo_ids,on=('person','imagenum'))\n",
        "\n",
        "    assert len(df)==len(df_attrs),\"lost some data when merging dataframes\"\n",
        "\n",
        "    #image preprocessing\n",
        "    all_photos = df['photo_path'].apply(imread)\\\n",
        "                                 .apply(lambda img: img[dy:-dy,dx:-dx])\\\n",
        "                                 .apply(lambda img: resize(img, (dimx, dimy)))\n",
        "\n",
        "    all_photos = np.stack(all_photos.values).astype('uint8')\n",
        "    all_attrs = df.drop([\"photo_path\",\"person\",\"imagenum\"],axis=1)\n",
        "\n",
        "    return all_photos,all_attrs\n",
        "\n",
        "\n",
        "\n",
        "data,attrs = fetch_lfw_dataset(dimx=36,dimy=36)\n",
        "\n",
        "#preprocess faces\n",
        "data = np.float32(data)/255.\n",
        "\n",
        "IMG_SHAPE = data.shape[1:]\n"
      ],
      "metadata": {
        "id": "mGAWj-2nkSp9",
        "colab": {
          "base_uri": "https://localhost:8080/"
        },
        "outputId": "08d3251d-f347-4391-dd4a-306ef4ecd34d"
      },
      "execution_count": 14,
      "outputs": [
        {
          "output_type": "stream",
          "name": "stdout",
          "text": [
            "images not found, donwloading...\n",
            "extracting...\n",
            "done\n",
            "attributes not found, downloading...\n",
            "done\n"
          ]
        }
      ]
    },
    {
      "cell_type": "code",
      "execution_count": 16,
      "metadata": {
        "id": "N1lWNvL4vDlO",
        "colab": {
          "base_uri": "https://localhost:8080/",
          "height": 447
        },
        "outputId": "9f0ca7ca-2798-4e6e-bcaa-edf8faf0975a"
      },
      "outputs": [
        {
          "output_type": "execute_result",
          "data": {
            "text/plain": [
              "<matplotlib.image.AxesImage at 0x783806cb6170>"
            ]
          },
          "metadata": {},
          "execution_count": 16
        },
        {
          "output_type": "display_data",
          "data": {
            "text/plain": [
              "<Figure size 640x480 with 1 Axes>"
            ],
            "image/png": "[encoded data removed]"
          },
          "metadata": {}
        }
      ],
      "source": [
        "#print random image\n",
        "plt.imshow(data[np.random.randint(data.shape[0])], cmap=\"gray\", interpolation=\"none\")"
      ]
    },
    {
      "cell_type": "markdown",
      "metadata": {
        "id": "dDCJQmT5vDlP"
      },
      "source": [
        "# Generative adversarial nets 101\n",
        "\n",
        "<img src=\"https://raw.githubusercontent.com/torch/torch.github.io/master/blog/_posts/images/model.png\" width=320px height=240px>\n",
        "\n",
        "Deep learning is simple, isn't it?\n",
        "* build some network that generates the face (small image)\n",
        "* make up a __measure__ of __how good that face is__\n",
        "* optimize with gradient descent\n",
        "\n",
        "\n",
        "The only problem is: how can we tell well-generated faces from bad?\n",
        "\n",
        "__If we can't tell good faces from bad, we delegate it to yet another neural network!__\n",
        "\n",
        "That makes the two of them:\n",
        "* __G__enerator - takes random noize for inspiration and tries to generate a face sample.\n",
        "  * Let's call him __G__(z), where z is a gaussian noize.\n",
        "* __D__iscriminator - takes a face sample and tries to tell if it's great or fake.\n",
        "  * Predicts the probability of input image being a __real face__\n",
        "  * Let's call him __D__(x), x being an image.\n",
        "  * __D(x)__ is a predition for real image and __D(G(z))__ is prediction for the face made by generator.\n",
        "\n",
        "Before we dive into training them, let's construct the two networks."
      ]
    },
    {
      "cell_type": "code",
      "execution_count": null,
      "metadata": {
        "id": "xDAL_USXvDlP"
      },
      "outputs": [],
      "source": [
        "import tensorflow as tf\n",
        "import keras\n",
        "from keras.models import Sequential\n",
        "from keras import layers as L"
      ]
    },
    {
      "cell_type": "code",
      "source": [
        "print(data[np.random.randint(data.shape[0])].shape)"
      ],
      "metadata": {
        "colab": {
          "base_uri": "https://localhost:8080/"
        },
        "id": "8piJ06HdoMTs",
        "outputId": "aa30bdd9-c476-4447-c1cb-2bd9b959c361"
      },
      "execution_count": null,
      "outputs": [
        {
          "output_type": "stream",
          "name": "stdout",
          "text": [
            "(36, 36, 3)\n"
          ]
        }
      ]
    },
    {
      "cell_type": "code",
      "execution_count": null,
      "metadata": {
        "id": "y5AliRd4vDlP",
        "colab": {
          "base_uri": "https://localhost:8080/"
        },
        "outputId": "e5a8599e-9d60-4bd0-f71d-5bce0296985e"
      },
      "outputs": [
        {
          "output_type": "stream",
          "name": "stderr",
          "text": [
            "WARNING:tensorflow:5 out of the last 10867 calls to <function Model.make_predict_function.<locals>.predict_function at 0x7db2d53a4f70> triggered tf.function retracing. Tracing is expensive and the excessive number of tracings could be due to (1) creating @tf.function repeatedly in a loop, (2) passing tensors with different shapes, (3) passing Python objects instead of tensors. For (1), please define your @tf.function outside of the loop. For (2), @tf.function has reduce_retracing=True option that can avoid unnecessary retracing. For (3), please refer to https://www.tensorflow.org/guide/function#controlling_retracing and https://www.tensorflow.org/api_docs/python/tf/function for  more details.\n"
          ]
        },
        {
          "output_type": "stream",
          "name": "stdout",
          "text": [
            "1/1 [==============================] - 0s 198ms/step\n",
            "(1, 36, 36, 3)\n"
          ]
        }
      ],
      "source": [
        "CODE_SIZE = 256\n",
        "\n",
        "generator = Sequential()\n",
        "generator.add(L.InputLayer([CODE_SIZE],name='noise'))\n",
        "generator.add(L.Dense(10*8*8, activation='elu'))\n",
        "\n",
        "generator.add(L.Reshape((8,8,10)))\n",
        "generator.add(L.Conv2DTranspose(64,kernel_size=(5,5),activation='elu'))\n",
        "generator.add(L.Conv2DTranspose(64,kernel_size=(5,5),activation='elu'))\n",
        "generator.add(L.UpSampling2D(size=(2,2)))\n",
        "generator.add(L.Conv2DTranspose(32,kernel_size=3,activation='elu'))\n",
        "#generator.add(L.Conv2DTranspose(32,kernel_size=3,activation='elu'))\n",
        "#generator.add(L.Conv2DTranspose(32,kernel_size=3,activation='elu'))\n",
        "generator.add(L.Conv2DTranspose(3, kernel_size=3, activation='elu'))\n",
        "\n",
        "\n",
        "\n",
        "sample = tf.random.normal((1,CODE_SIZE))\n",
        "g_image = generator.predict(sample)\n",
        "print(g_image.shape)"
      ]
    },
    {
      "cell_type": "code",
      "execution_count": null,
      "metadata": {
        "id": "E1wbKSgnvDlP"
      },
      "outputs": [],
      "source": [
        "assert generator.output_shape[1:] == IMG_SHAPE, \"generator must output an image of shape %s, but instead it produces %s\"%(IMG_SHAPE,generator.output_shape[1:])"
      ]
    },
    {
      "cell_type": "markdown",
      "metadata": {
        "id": "sABkMVfHvDlQ"
      },
      "source": [
        "### Discriminator\n",
        "Discriminator is your usual convolutional network with interlooping convolution and pooling layers"
      ]
    },
    {
      "cell_type": "code",
      "execution_count": null,
      "metadata": {
        "id": "ahbLHSxKvDlQ"
      },
      "outputs": [],
      "source": [
        "discriminator = Sequential()\n",
        "\n",
        "discriminator.add(L.InputLayer(IMG_SHAPE))\n",
        "discriminator.add(L.Conv2D(64, (3,3) ))\n",
        "discriminator.add(L.AveragePooling2D())\n",
        "discriminator.add(L.Conv2D(64, (3,3) ))\n",
        "discriminator.add(L.AveragePooling2D())\n",
        "discriminator.add(L.Conv2D(64, (3,3) ))\n",
        "discriminator.add(L.Conv2D(64, (3,3) ))\n",
        "discriminator.add(L.Flatten())\n",
        "discriminator.add(L.Dense(256,activation='tanh'))\n",
        "discriminator.add(L.Dense(2,activation=tf.nn.log_softmax))"
      ]
    },
    {
      "cell_type": "code",
      "source": [
        "\n",
        "from google.colab import drive\n",
        "drive.mount('/content/drive/')\n",
        "file_path = '/content/drive/MyDrive/SavedModels/'\n",
        "generator = tf.keras.models.load_model('/content/drive/MyDrive/SavedModels/GAN/Generator')\n",
        "discriminator = tf.keras.models.load_model ('/content/drive/MyDrive/SavedModels/GAN/Discriminator')"
      ],
      "metadata": {
        "colab": {
          "base_uri": "https://localhost:8080/"
        },
        "id": "PUxAXwbZLwYL",
        "outputId": "4b1beb0d-883b-40ac-df14-b05fd6105414"
      },
      "execution_count": 38,
      "outputs": [
        {
          "output_type": "stream",
          "name": "stdout",
          "text": [
            "Drive already mounted at /content/drive/; to attempt to forcibly remount, call drive.mount(\"/content/drive/\", force_remount=True).\n"
          ]
        },
        {
          "output_type": "stream",
          "name": "stderr",
          "text": [
            "WARNING:tensorflow:No training configuration found in save file, so the model was *not* compiled. Compile it manually.\n",
            "WARNING:tensorflow:No training configuration found in save file, so the model was *not* compiled. Compile it manually.\n"
          ]
        }
      ]
    },
    {
      "cell_type": "markdown",
      "metadata": {
        "id": "a07Xd-SQvDlQ"
      },
      "source": [
        "# Training\n",
        "\n",
        "We train the two networks concurrently:\n",
        "* Train __discriminator__ to better distinguish real data from __current__ generator\n",
        "* Train __generator__ to make discriminator think generator is real\n",
        "\n",
        "![img](gan.png)\n",
        "\n",
        "Training is done iteratively until discriminator is no longer able to find the difference (or until you run out of patience).\n",
        "\n",
        "\n",
        "### Tricks:\n",
        "* You can find useful tricks here https://github.com/soumith/ganhacks"
      ]
    },
    {
      "cell_type": "code",
      "source": [
        "import tensorflow as tf\n",
        "import keras\n",
        "from keras.models import Sequential\n",
        "from keras import layers as L\n",
        "import numpy as np\n",
        "import os\n",
        "import pandas as pd\n",
        "import matplotlib.pyplot as plt\n"
      ],
      "metadata": {
        "id": "Jvz3pCfwKBGb"
      },
      "execution_count": 32,
      "outputs": []
    },
    {
      "cell_type": "markdown",
      "metadata": {
        "id": "LDNPnaOpvDlQ"
      },
      "source": [
        "### Auxilary functions\n",
        "Here we define a few helper functions that draw current data distributions and sample training batches."
      ]
    },
    {
      "cell_type": "code",
      "execution_count": 33,
      "metadata": {
        "id": "qeSo4pMAvDlQ"
      },
      "outputs": [],
      "source": [
        "def sample_noise_batch(bsize):\n",
        "    return np.random.normal(size=(bsize, CODE_SIZE)).astype('float32')\n",
        "\n",
        "def sample_data_batch(bsize):\n",
        "    idxs = np.random.choice(np.arange(data.shape[0]), size=bsize)\n",
        "    return data[idxs]\n",
        "\n",
        "def sample_images(nrow,ncol, sharp=False):\n",
        "    images = generator.predict(sample_noise_batch(bsize=nrow*ncol))\n",
        "    if np.var(images)!=0:\n",
        "        images = images.clip(np.min(data),np.max(data))\n",
        "    for i in range(nrow*ncol):\n",
        "        plt.subplot(nrow,ncol,i+1)\n",
        "        if sharp:\n",
        "            plt.imshow(images[i].reshape(IMG_SHAPE),cmap=\"gray\", interpolation=\"none\")\n",
        "        else:\n",
        "            plt.imshow(images[i].reshape(IMG_SHAPE),cmap=\"gray\")\n",
        "    plt.show()\n",
        "    return images\n",
        "\n",
        "\n",
        "def sample_probas(bsize):\n",
        "    plt.title('Generated vs real data')\n",
        "    plt.hist(np.exp(discriminator.predict(sample_data_batch(bsize)))[:,1],\n",
        "             label='D(x)', alpha=0.5,range=[0,1])\n",
        "    plt.hist(np.exp(discriminator.predict(generator.predict(sample_noise_batch(bsize))))[:,1],\n",
        "             label='D(G(z))',alpha=0.5,range=[0,1])\n",
        "    plt.legend(loc='best')\n",
        "    plt.show()"
      ]
    },
    {
      "cell_type": "markdown",
      "metadata": {
        "id": "XP30W_WEvDlR"
      },
      "source": [
        "### Training\n",
        "Main loop.\n",
        "We just train generator and discriminator in a loop and draw results once every N iterations."
      ]
    },
    {
      "cell_type": "code",
      "execution_count": 41,
      "metadata": {
        "id": "WZyLOfwfvDlR"
      },
      "outputs": [],
      "source": [
        "disc_optimizer = tf.keras.optimizers.Adagrad(0.01)\n",
        "gen_optimizer = tf.keras.optimizers.Adagrad(0.01)\n",
        "\n"
      ]
    },
    {
      "cell_type": "code",
      "execution_count": null,
      "metadata": {
        "id": "eIKH3dXNvDlR",
        "colab": {
          "base_uri": "https://localhost:8080/",
          "height": 911,
          "referenced_widgets": [
            "aa92fdc6051c49fa92a96267d38135f0",
            "e4ad12db157a482dab8e724c9cf5d48b",
            "251da82067384beba8f9559e74870229",
            "4dc1b3dab0cf47088c21acb39d081e50",
            "f80f9c9f86eb436a92f93d53dc11c76e",
            "0123c7e98c7340d29c50bf3a2cd8b9d5",
            "c490af9e3da04c178254bbe446c41068",
            "a8cb8b960f4842a885f6503eb48b9475",
            "5fb56d5d16b04ef0bc85c1b1f563dbb8",
            "d44373170b0d48bc9acc8bd3e757f022",
            "0d871d55f7c54801978ea37b292a0e94"
          ]
        },
        "outputId": "996cc19e-be69-4c51-f653-0885559b802a"
      },
      "outputs": [
        {
          "output_type": "stream",
          "name": "stdout",
          "text": [
            "1/1 [==============================] - 0s 43ms/step\n"
          ]
        },
        {
          "output_type": "display_data",
          "data": {
            "text/plain": [
              "<Figure size 640x480 with 6 Axes>"
            ],
            "image/png": "[encoded data removed]"
          },
          "metadata": {}
        },
        {
          "output_type": "stream",
          "name": "stdout",
          "text": [
            "32/32 [==============================] - 1s 27ms/step\n",
            "32/32 [==============================] - 3s 109ms/step\n",
            "32/32 [==============================] - 1s 43ms/step\n"
          ]
        },
        {
          "output_type": "display_data",
          "data": {
            "text/plain": [
              "<Figure size 640x480 with 1 Axes>"
            ],
            "image/png": "[encoded data removed]"
          },
          "metadata": {}
        }
      ],
      "source": [
        "from IPython import display\n",
        "from tqdm import tnrange\n",
        "CODE_SIZE = 256\n",
        "\n",
        "for epoch in tnrange(50000):\n",
        "    real_data = sample_data_batch(100)\n",
        "    noise = sample_noise_batch(100)\n",
        "\n",
        "    ########################\n",
        "    #discriminator training#\n",
        "    ########################\n",
        "    for i in range(5):\n",
        "      with tf.GradientTape() as tape:\n",
        "        logp_real = discriminator(real_data)\n",
        "\n",
        "        #logp_gen = <log P(real | gen(noise))\n",
        "        ccs = tf.keras.losses.BinaryCrossentropy()\n",
        "\n",
        "        generated_data = generator(noise)\n",
        "        logp_gen = discriminator(generated_data)\n",
        "        d_loss = -tf.reduce_mean(logp_real[:,1] + logp_gen[:,0], axis=0)\n",
        "\n",
        "        #regularize\n",
        "        d_loss += tf.reduce_mean(discriminator.layers[-1].kernel**2)\n",
        "\n",
        "        #optimize\n",
        "        disc_optimizer.minimize(d_loss, var_list=(discriminator.trainable_weights),tape=tape)\n",
        "\n",
        "    ########################\n",
        "    ###generator training###\n",
        "    ########################\n",
        "\n",
        "    with tf.GradientTape() as tape:\n",
        "      generated_data = generator(noise)\n",
        "      logp_gen = discriminator(generated_data)\n",
        "      g_loss = -tf.reduce_mean(logp_gen[:, 1], axis=0)\n",
        "\n",
        "      #optimize\n",
        "      gen_optimizer.minimize(g_loss, var_list=(generator.trainable_variables), tape=tape)\n",
        "\n",
        "    if epoch %100==0:\n",
        "        display.clear_output(wait=True)\n",
        "        sample_images(2,3,True)\n",
        "        sample_probas(1000)\n"
      ]
    },
    {
      "cell_type": "code",
      "execution_count": null,
      "metadata": {
        "id": "WE8DYfHwvDlR"
      },
      "outputs": [],
      "source": [
        "plt.figure(figsize=[16,24])\n",
        "sample_images(16,8)"
      ]
    },
    {
      "cell_type": "code",
      "source": [
        "from google.colab import drive\n",
        "drive.mount('/content/drive/')\n",
        "file_path = '/content/drive/MyDrive/SavedModels/'\n",
        "generator.save('/content/drive/MyDrive/SavedModels/GAN/Generator')\n",
        "discriminator.save('/content/drive/MyDrive/SavedModels/GAN/Discriminator')"
      ],
      "metadata": {
        "id": "4Br22yAJkwQx"
      },
      "execution_count": null,
      "outputs": []
    },
    {
      "cell_type": "code",
      "source": [],
      "metadata": {
        "id": "YNS2RysIs-sP"
      },
      "execution_count": null,
      "outputs": []
    }
  ],
  "metadata": {
    "anaconda-cloud": {},
    "kernelspec": {
      "display_name": "Python 3",
      "name": "python3"
    },
    "language_info": {
      "codemirror_mode": {
        "name": "ipython",
        "version": 3
      },
      "file_extension": ".py",
      "mimetype": "text/x-python",
      "name": "python",
      "nbconvert_exporter": "python",
      "pygments_lexer": "ipython3",
      "version": "3.8.3"
    },
    "toc": {
      "nav_menu": {},
      "number_sections": true,
      "sideBar": true,
      "skip_h1_title": false,
      "title_cell": "Table of Contents",
      "title_sidebar": "Contents",
      "toc_cell": false,
      "toc_position": {},
      "toc_section_display": true,
      "toc_window_display": false
    },
    "colab": {
      "provenance": [],
      "gpuType": "T4",
      "include_colab_link": true
    },
    "accelerator": "TPU",
    "widgets": {
      "application/vnd.jupyter.widget-state+json": {
        "aa92fdc6051c49fa92a96267d38135f0": {
          "model_module": "@jupyter-widgets/controls",
          "model_name": "HBoxModel",
          "model_module_version": "1.5.0",
          "state": {
            "_dom_classes": [],
            "_model_module": "@jupyter-widgets/controls",
            "_model_module_version": "1.5.0",
            "_model_name": "HBoxModel",
            "_view_count": null,
            "_view_module": "@jupyter-widgets/controls",
            "_view_module_version": "1.5.0",
            "_view_name": "HBoxView",
            "box_style": "",
            "children": [
              "IPY_MODEL_e4ad12db157a482dab8e724c9cf5d48b",
              "IPY_MODEL_251da82067384beba8f9559e74870229",
              "IPY_MODEL_4dc1b3dab0cf47088c21acb39d081e50"
            ],
            "layout": "IPY_MODEL_f80f9c9f86eb436a92f93d53dc11c76e"
          }
        },
        "e4ad12db157a482dab8e724c9cf5d48b": {
          "model_module": "@jupyter-widgets/controls",
          "model_name": "HTMLModel",
          "model_module_version": "1.5.0",
          "state": {
            "_dom_classes": [],
            "_model_module": "@jupyter-widgets/controls",
            "_model_module_version": "1.5.0",
            "_model_name": "HTMLModel",
            "_view_count": null,
            "_view_module": "@jupyter-widgets/controls",
            "_view_module_version": "1.5.0",
            "_view_name": "HTMLView",
            "description": "",
            "description_tooltip": null,
            "layout": "IPY_MODEL_0123c7e98c7340d29c50bf3a2cd8b9d5",
            "placeholder": "​",
            "style": "IPY_MODEL_c490af9e3da04c178254bbe446c41068",
            "value": "  0%"
          }
        },
        "251da82067384beba8f9559e74870229": {
          "model_module": "@jupyter-widgets/controls",
          "model_name": "FloatProgressModel",
          "model_module_version": "1.5.0",
          "state": {
            "_dom_classes": [],
            "_model_module": "@jupyter-widgets/controls",
            "_model_module_version": "1.5.0",
            "_model_name": "FloatProgressModel",
            "_view_count": null,
            "_view_module": "@jupyter-widgets/controls",
            "_view_module_version": "1.5.0",
            "_view_name": "ProgressView",
            "bar_style": "",
            "description": "",
            "description_tooltip": null,
            "layout": "IPY_MODEL_a8cb8b960f4842a885f6503eb48b9475",
            "max": 50000,
            "min": 0,
            "orientation": "horizontal",
            "style": "IPY_MODEL_5fb56d5d16b04ef0bc85c1b1f563dbb8",
            "value": 23
          }
        },
        "4dc1b3dab0cf47088c21acb39d081e50": {
          "model_module": "@jupyter-widgets/controls",
          "model_name": "HTMLModel",
          "model_module_version": "1.5.0",
          "state": {
            "_dom_classes": [],
            "_model_module": "@jupyter-widgets/controls",
            "_model_module_version": "1.5.0",
            "_model_name": "HTMLModel",
            "_view_count": null,
            "_view_module": "@jupyter-widgets/controls",
            "_view_module_version": "1.5.0",
            "_view_name": "HTMLView",
            "description": "",
            "description_tooltip": null,
            "layout": "IPY_MODEL_d44373170b0d48bc9acc8bd3e757f022",
            "placeholder": "​",
            "style": "IPY_MODEL_0d871d55f7c54801978ea37b292a0e94",
            "value": " 23/50000 [03:59&lt;136:10:42,  9.81s/it]"
          }
        },
        "f80f9c9f86eb436a92f93d53dc11c76e": {
          "model_module": "@jupyter-widgets/base",
          "model_name": "LayoutModel",
          "model_module_version": "1.2.0",
          "state": {
            "_model_module": "@jupyter-widgets/base",
            "_model_module_version": "1.2.0",
            "_model_name": "LayoutModel",
            "_view_count": null,
            "_view_module": "@jupyter-widgets/base",
            "_view_module_version": "1.2.0",
            "_view_name": "LayoutView",
            "align_content": null,
            "align_items": null,
            "align_self": null,
            "border": null,
            "bottom": null,
            "display": null,
            "flex": null,
            "flex_flow": null,
            "grid_area": null,
            "grid_auto_columns": null,
            "grid_auto_flow": null,
            "grid_auto_rows": null,
            "grid_column": null,
            "grid_gap": null,
            "grid_row": null,
            "grid_template_areas": null,
            "grid_template_columns": null,
            "grid_template_rows": null,
            "height": null,
            "justify_content": null,
            "justify_items": null,
            "left": null,
            "margin": null,
            "max_height": null,
            "max_width": null,
            "min_height": null,
            "min_width": null,
            "object_fit": null,
            "object_position": null,
            "order": null,
            "overflow": null,
            "overflow_x": null,
            "overflow_y": null,
            "padding": null,
            "right": null,
            "top": null,
            "visibility": null,
            "width": null
          }
        },
        "0123c7e98c7340d29c50bf3a2cd8b9d5": {
          "model_module": "@jupyter-widgets/base",
          "model_name": "LayoutModel",
          "model_module_version": "1.2.0",
          "state": {
            "_model_module": "@jupyter-widgets/base",
            "_model_module_version": "1.2.0",
            "_model_name": "LayoutModel",
            "_view_count": null,
            "_view_module": "@jupyter-widgets/base",
            "_view_module_version": "1.2.0",
            "_view_name": "LayoutView",
            "align_content": null,
            "align_items": null,
            "align_self": null,
            "border": null,
            "bottom": null,
            "display": null,
            "flex": null,
            "flex_flow": null,
            "grid_area": null,
            "grid_auto_columns": null,
            "grid_auto_flow": null,
            "grid_auto_rows": null,
            "grid_column": null,
            "grid_gap": null,
            "grid_row": null,
            "grid_template_areas": null,
            "grid_template_columns": null,
            "grid_template_rows": null,
            "height": null,
            "justify_content": null,
            "justify_items": null,
            "left": null,
            "margin": null,
            "max_height": null,
            "max_width": null,
            "min_height": null,
            "min_width": null,
            "object_fit": null,
            "object_position": null,
            "order": null,
            "overflow": null,
            "overflow_x": null,
            "overflow_y": null,
            "padding": null,
            "right": null,
            "top": null,
            "visibility": null,
            "width": null
          }
        },
        "c490af9e3da04c178254bbe446c41068": {
          "model_module": "@jupyter-widgets/controls",
          "model_name": "DescriptionStyleModel",
          "model_module_version": "1.5.0",
          "state": {
            "_model_module": "@jupyter-widgets/controls",
            "_model_module_version": "1.5.0",
            "_model_name": "DescriptionStyleModel",
            "_view_count": null,
            "_view_module": "@jupyter-widgets/base",
            "_view_module_version": "1.2.0",
            "_view_name": "StyleView",
            "description_width": ""
          }
        },
        "a8cb8b960f4842a885f6503eb48b9475": {
          "model_module": "@jupyter-widgets/base",
          "model_name": "LayoutModel",
          "model_module_version": "1.2.0",
          "state": {
            "_model_module": "@jupyter-widgets/base",
            "_model_module_version": "1.2.0",
            "_model_name": "LayoutModel",
            "_view_count": null,
            "_view_module": "@jupyter-widgets/base",
            "_view_module_version": "1.2.0",
            "_view_name": "LayoutView",
            "align_content": null,
            "align_items": null,
            "align_self": null,
            "border": null,
            "bottom": null,
            "display": null,
            "flex": null,
            "flex_flow": null,
            "grid_area": null,
            "grid_auto_columns": null,
            "grid_auto_flow": null,
            "grid_auto_rows": null,
            "grid_column": null,
            "grid_gap": null,
            "grid_row": null,
            "grid_template_areas": null,
            "grid_template_columns": null,
            "grid_template_rows": null,
            "height": null,
            "justify_content": null,
            "justify_items": null,
            "left": null,
            "margin": null,
            "max_height": null,
            "max_width": null,
            "min_height": null,
            "min_width": null,
            "object_fit": null,
            "object_position": null,
            "order": null,
            "overflow": null,
            "overflow_x": null,
            "overflow_y": null,
            "padding": null,
            "right": null,
            "top": null,
            "visibility": null,
            "width": null
          }
        },
        "5fb56d5d16b04ef0bc85c1b1f563dbb8": {
          "model_module": "@jupyter-widgets/controls",
          "model_name": "ProgressStyleModel",
          "model_module_version": "1.5.0",
          "state": {
            "_model_module": "@jupyter-widgets/controls",
            "_model_module_version": "1.5.0",
            "_model_name": "ProgressStyleModel",
            "_view_count": null,
            "_view_module": "@jupyter-widgets/base",
            "_view_module_version": "1.2.0",
            "_view_name": "StyleView",
            "bar_color": null,
            "description_width": ""
          }
        },
        "d44373170b0d48bc9acc8bd3e757f022": {
          "model_module": "@jupyter-widgets/base",
          "model_name": "LayoutModel",
          "model_module_version": "1.2.0",
          "state": {
            "_model_module": "@jupyter-widgets/base",
            "_model_module_version": "1.2.0",
            "_model_name": "LayoutModel",
            "_view_count": null,
            "_view_module": "@jupyter-widgets/base",
            "_view_module_version": "1.2.0",
            "_view_name": "LayoutView",
            "align_content": null,
            "align_items": null,
            "align_self": null,
            "border": null,
            "bottom": null,
            "display": null,
            "flex": null,
            "flex_flow": null,
            "grid_area": null,
            "grid_auto_columns": null,
            "grid_auto_flow": null,
            "grid_auto_rows": null,
            "grid_column": null,
            "grid_gap": null,
            "grid_row": null,
            "grid_template_areas": null,
            "grid_template_columns": null,
            "grid_template_rows": null,
            "height": null,
            "justify_content": null,
            "justify_items": null,
            "left": null,
            "margin": null,
            "max_height": null,
            "max_width": null,
            "min_height": null,
            "min_width": null,
            "object_fit": null,
            "object_position": null,
            "order": null,
            "overflow": null,
            "overflow_x": null,
            "overflow_y": null,
            "padding": null,
            "right": null,
            "top": null,
            "visibility": null,
            "width": null
          }
        },
        "0d871d55f7c54801978ea37b292a0e94": {
          "model_module": "@jupyter-widgets/controls",
          "model_name": "DescriptionStyleModel",
          "model_module_version": "1.5.0",
          "state": {
            "_model_module": "@jupyter-widgets/controls",
            "_model_module_version": "1.5.0",
            "_model_name": "DescriptionStyleModel",
            "_view_count": null,
            "_view_module": "@jupyter-widgets/base",
            "_view_module_version": "1.2.0",
            "_view_name": "StyleView",
            "description_width": ""
          }
        }
      }
    }
  },
  "nbformat": 4,
  "nbformat_minor": 0
}